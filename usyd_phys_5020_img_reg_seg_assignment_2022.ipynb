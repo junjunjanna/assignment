{
  "nbformat": 4,
  "nbformat_minor": 5,
  "metadata": {
    "kernelspec": {
      "display_name": "Python 3",
      "language": "python",
      "name": "python3"
    },
    "language_info": {
      "codemirror_mode": {
        "name": "ipython",
        "version": 3
      },
      "file_extension": ".py",
      "mimetype": "text/x-python",
      "name": "python",
      "nbconvert_exporter": "python",
      "pygments_lexer": "ipython3",
      "version": "3.9.2"
    },
    "colab": {
      "provenance": [],
      "collapsed_sections": [
        "hungry-roller",
        "animated-marijuana",
        "controlling-office",
        "likely-falls",
        "intellectual-moderator",
        "experienced-slope",
        "rapid-seller",
        "unknown-beaver",
        "appreciated-table",
        "academic-friday",
        "continuing-milwaukee",
        "therapeutic-leadership",
        "formed-foster",
        "nutritional-storm",
        "velvet-notice",
        "tamil-strengthening",
        "dying-specialist",
        "dress-wales",
        "significant-conjunction",
        "prime-bones",
        "interior-albany",
        "dense-edgar",
        "useful-exhibit",
        "ultimate-convert",
        "rubber-little",
        "naval-standard",
        "ceramic-switzerland",
        "northern-macintosh",
        "surprising-judges",
        "quality-withdrawal",
        "maritime-dating",
        "jewish-lying",
        "changed-physiology",
        "matched-portfolio",
        "color-event",
        "informed-alberta",
        "passing-claim",
        "tLiMPNPFgTeh"
      ],
      "include_colab_link": true
    }
  },
  "cells": [
    {
      "cell_type": "markdown",
      "metadata": {
        "id": "view-in-github",
        "colab_type": "text"
      },
      "source": [
        "<a href=\"https://colab.research.google.com/github/junjunjanna/assignment/blob/main/usyd_phys_5020_img_reg_seg_assignment_2022.ipynb\" target=\"_parent\"><img src=\"https://colab.research.google.com/assets/colab-badge.svg\" alt=\"Open In Colab\"/></a>"
      ]
    },
    {
      "cell_type": "markdown",
      "metadata": {
        "id": "gross-anger"
      },
      "source": [
        "# PHYS 5020 - Image Registration and Segmentation\n",
        "\n",
        "## Assignment Worksheet\n",
        "\n",
        "This jupyter notebook contains useful pieces of documented python code.\n",
        "\n",
        "Please feel free to use, adapt, and extend this code in your assignment.\n",
        "\n",
        "You are encouraged to add to this notebook!\n",
        "\n",
        "### Links\n",
        "To download and check out platipy: https://github.com/pyplati/platipy\n",
        "\n",
        "You should check out the examples: https://github.com/pyplati/platipy/tree/master/examples\n",
        "\n",
        "Documentation available here: https://pyplati.github.io/platipy/\n",
        "\n",
        "\n",
        "### Authors:\n",
        "Dr Rob Finnegan\n",
        "\n",
        "Dr John Kipritidis"
      ],
      "id": "gross-anger"
    },
    {
      "cell_type": "markdown",
      "metadata": {
        "id": "recorded-clone"
      },
      "source": [
        "### Student information:\n",
        "\n",
        "#### Name:\n",
        "*name here*\n",
        "\n",
        "#### Student number:\n",
        "*number here*\n",
        "\n",
        "#### Date:\n",
        "date here"
      ],
      "id": "recorded-clone"
    },
    {
      "cell_type": "code",
      "metadata": {
        "id": "affecting-softball"
      },
      "source": [
        "# set-up\n",
        "# IMPORTANT - IF YOU ARE USING GOOGLE COLAB MAKE SURE TO RESTART RUNTIME!\n",
        "\n",
        "try:\n",
        "    import platipy\n",
        "except ImportError:\n",
        "    !pip install platipy"
      ],
      "id": "affecting-softball",
      "execution_count": null,
      "outputs": []
    },
    {
      "cell_type": "code",
      "metadata": {
        "id": "tender-click"
      },
      "source": [
        "# import some basic modules\n",
        "\n",
        "from platipy.imaging import ImageVisualiser\n",
        "\n",
        "import SimpleITK as sitk\n",
        "import matplotlib.pyplot as plt\n",
        "import numpy as np"
      ],
      "id": "tender-click",
      "execution_count": null,
      "outputs": []
    },
    {
      "cell_type": "code",
      "metadata": {
        "id": "damaged-integer"
      },
      "source": [
        "# download the assignment data\n",
        "\n",
        "!gdown 1R6VbCJ7xUxF5PvoGLbBKSvIC_ZGKcyhe --output data.zip"
      ],
      "id": "damaged-integer",
      "execution_count": null,
      "outputs": []
    },
    {
      "cell_type": "code",
      "metadata": {
        "id": "married-celebration"
      },
      "source": [
        "# unzip the data\n",
        "# you can change the output location if you want\n",
        "\n",
        "!unzip ./data.zip > /dev/null"
      ],
      "id": "married-celebration",
      "execution_count": null,
      "outputs": []
    },
    {
      "cell_type": "markdown",
      "metadata": {
        "id": "hungry-roller"
      },
      "source": [
        "***\n",
        "# Task 1 \n",
        "## Automatic bone segmentation on CT scans \n",
        "\n",
        "Segmentation of bones can be used to assess patient set-up, which is relevant for radiotherapy treatment. \n",
        "\n",
        "This task can be accomplished with simple methods because the x-ray attenuation of bones is much greater than that of soft tissues, and so the image intensity values are much higher for bone than other soft tissues.\n",
        "\n",
        "\n",
        "\n",
        "As a medical physics registrar, you have been provided with two CT scans from the same patient, one of the head and neck region (HN) and one of the body (from the neck to mid-thigh)."
      ],
      "id": "hungry-roller"
    },
    {
      "cell_type": "markdown",
      "metadata": {
        "id": "assisted-appendix"
      },
      "source": [
        "### Question 1\n",
        "\n",
        "Generate a histogram of image intensity values using the HN scan.\n",
        "\n",
        "Include on your axes the physical units used to measure CT image values."
      ],
      "id": "assisted-appendix"
    },
    {
      "cell_type": "code",
      "metadata": {
        "id": "ongoing-techno"
      },
      "source": [
        "# read in the HN CT scan\n",
        "\n",
        "img_ct_hn = sitk.ReadImage(\"./data/task_1/HN_CT.nii.gz\")"
      ],
      "id": "ongoing-techno",
      "execution_count": null,
      "outputs": []
    },
    {
      "cell_type": "code",
      "metadata": {
        "id": "burning-diary"
      },
      "source": [
        "# visualise the image\n",
        "vis = ImageVisualiser(\n",
        "    image = img_ct_hn,\n",
        "    cut = (95,256,256),         # the (axial, coronal, sagittal) slice location\n",
        "    axis = 'ortho',             # this can be \"z (axial)\", \"y (corornal)\", \"x (sagittal)\", \"ortho\"\n",
        "    window = (-250, 500),       # specify as (min, range)\n",
        "    figure_size_in = 6,         # the size of the image\n",
        "    colormap = plt.cm.Greys_r,  # color map, see: https://matplotlib.org/stable/tutorials/colors/colormaps.html\n",
        "    projection = False,         # type of intensity projection: \"max\" (MIP), \"mean\", \"median\", etc.\n",
        ")\n",
        "    \n",
        "# create the figure\n",
        "fig = vis.show()"
      ],
      "id": "burning-diary",
      "execution_count": null,
      "outputs": []
    },
    {
      "cell_type": "code",
      "metadata": {
        "id": "killing-nelson"
      },
      "source": [
        "# read in the contours\n",
        "# these are also just an image!\n",
        "\n",
        "contour_external = sitk.ReadImage(\"./data/task_1/HN_RTSTRUCT_EXTERNAL.nii.gz\")"
      ],
      "id": "killing-nelson",
      "execution_count": null,
      "outputs": []
    },
    {
      "cell_type": "code",
      "metadata": {
        "id": "convenient-senator"
      },
      "source": [
        "# visualise contours\n",
        "\n",
        "vis = ImageVisualiser(\n",
        "    image = img_ct_hn,\n",
        "    cut = (95,256,256),\n",
        "    axis = 'ortho',\n",
        "    window = (-250, 500),\n",
        "    figure_size_in = 6,\n",
        "    colormap = plt.cm.Greys_r,\n",
        "    projection = False,\n",
        ")\n",
        "    \n",
        "# add contours\n",
        "vis.add_contour(\n",
        "    contour = {\"EXTERNAL\":contour_external},\n",
        "    color= {\"EXTERNAL\":\"red\"},\n",
        "    linewidth=2,\n",
        "    show_legend=True\n",
        ")\n",
        "    \n",
        "    \n",
        "fig = vis.show()"
      ],
      "id": "convenient-senator",
      "execution_count": null,
      "outputs": []
    },
    {
      "cell_type": "code",
      "metadata": {
        "id": "seven-footage"
      },
      "source": [
        "# extract the image values (as a numpy array)\n",
        "vals_ct_hn = sitk.GetArrayFromImage(img_ct_hn)\n",
        "\n",
        "# extract the contour (mask)\n",
        "vals_contour_external = sitk.GetArrayFromImage(contour_external)\n",
        "\n",
        "# just analyse voxels inside the patient\n",
        "vals_inside_patient = vals_ct_hn[np.where(vals_contour_external)]\n",
        "\n",
        "# plot a histogram\n",
        "fig, ax = plt.subplots(1,1)\n",
        "\n",
        "ax.hist(\n",
        "    vals_inside_patient.flatten(),\n",
        "    bins = np.linspace(-1000,1500,500), # make 500 bins between -1000 and 1500\n",
        "    color = \"red\", # change to something else if you like!\n",
        ")\n",
        "\n",
        "# plotting options\n",
        "\n",
        "ax.set_yscale(\"log\") # choose from \"log\", \"linear\", etc.\n",
        "ax.set_xlabel(\"INSERT CORRECT X LABEL\")\n",
        "ax.set_ylabel(\"INSERT CORRECT Y LABEL\")\n",
        "ax.set_title(\"INSERT CORRECT TITLE\")\n",
        "\n",
        "# more options\n",
        "ax.grid(); ax.set_axisbelow(True)\n",
        "\n",
        "fig.tight_layout()\n",
        "fig.show()"
      ],
      "id": "seven-footage",
      "execution_count": null,
      "outputs": []
    },
    {
      "cell_type": "markdown",
      "metadata": {
        "id": "desirable-representative"
      },
      "source": [
        "#### Describe the types of materials that correspond different peaks in this graph.\n",
        "\n",
        "put your answer here"
      ],
      "id": "desirable-representative"
    },
    {
      "cell_type": "markdown",
      "metadata": {
        "id": "differential-growth"
      },
      "source": [
        "### Question 2\n",
        "By varying the intensity windowing and slice position, generate a 2D sagittal image from the HN CT scan in which the metal plate in the neck can be clearly observed."
      ],
      "id": "differential-growth"
    },
    {
      "cell_type": "code",
      "metadata": {
        "id": "suspended-tennis"
      },
      "source": [
        "# modify the value of `cut` and `window` as appropriate.\n",
        "# i.e. replace ? with valid numbers!\n",
        "\n",
        "vis = ImageVisualiser(\n",
        "    image = img_ct_hn,\n",
        "    cut = ?,\n",
        "    axis = 'x',\n",
        "    window = (?,?),\n",
        "    figure_size_in = 6,\n",
        "    colormap = plt.cm.Greys_r,\n",
        "    projection = False,\n",
        ")\n",
        "    \n",
        "fig = vis.show()"
      ],
      "id": "suspended-tennis",
      "execution_count": null,
      "outputs": []
    },
    {
      "cell_type": "markdown",
      "metadata": {
        "id": "innocent-huntington"
      },
      "source": [
        "### Question 3\n",
        "Using an appropriate threshold, create a segmentation of all the voxels in the HN CT scan that have an attenuation similar to bone. \n",
        "\n",
        "Visualise this segmentation, and describe the results."
      ],
      "id": "innocent-huntington"
    },
    {
      "cell_type": "code",
      "metadata": {
        "id": "forbidden-underground"
      },
      "source": [
        "# thresholding an image to create a mask\n",
        "# replace ? with correct values to match the CT number of bone\n",
        "bone_mask_threshold = sitk.BinaryThreshold(img_ct_hn, lowerThreshold=?, upperThreshold=?) "
      ],
      "id": "forbidden-underground",
      "execution_count": null,
      "outputs": []
    },
    {
      "cell_type": "code",
      "metadata": {
        "id": "uniform-novel"
      },
      "source": [
        "# we can visualise the segmentation as a scalar overlay\n",
        "# this can be more helpful than contours!\n",
        "\n",
        "vis = ImageVisualiser(\n",
        "    image = img_ct_hn,\n",
        "    cut=(33,256,256),\n",
        "    figure_size_in=6\n",
        ")\n",
        "    \n",
        "vis.add_scalar_overlay(\n",
        "    bone_mask_threshold,\n",
        "    name = \"TEST SEGMENTATION\",\n",
        "    alpha = 0.75,\n",
        "    min_value = 0,\n",
        "    max_value = 1,\n",
        "    colormap = plt.cm.Greens\n",
        ")\n",
        "    \n",
        "    \n",
        "fig = vis.show()"
      ],
      "id": "uniform-novel",
      "execution_count": null,
      "outputs": []
    },
    {
      "cell_type": "markdown",
      "metadata": {
        "id": "animated-marijuana"
      },
      "source": [
        "#### Describe the results.\n",
        "\n",
        "put you answer here"
      ],
      "id": "animated-marijuana"
    },
    {
      "cell_type": "markdown",
      "metadata": {
        "id": "controlling-office"
      },
      "source": [
        "### Question 4\n",
        "Using at least one post-processing algorithm, produce an improved bone segmentation, and describe your choices and reasoning.\n",
        "\n",
        "Examples of post-processing include connected component analysis and morphological operations (hole filling, closing, etc.). \n",
        "\n",
        "Do not perform any manual editing.\n"
      ],
      "id": "controlling-office"
    },
    {
      "cell_type": "code",
      "metadata": {
        "id": "featured-brand"
      },
      "source": [
        "# connected component analysis\n",
        "\n",
        "# run the simpleitk function\n",
        "bone_mask_con_com = sitk.RelabelComponent(sitk.ConnectedComponent(bone_mask_threshold))\n",
        "\n",
        "# YOU NEED TO VISUALISE THE CONNECTED COMPONENTS TO CHOOSE\n",
        "vis = ImageVisualiser(\n",
        "    image = img_ct_hn,\n",
        "    cut=(33,256,256),\n",
        "    figure_size_in=6\n",
        ")\n",
        "\n",
        "vis.add_scalar_overlay(\n",
        "    bone_mask_con_com,\n",
        "    name = \"LABEL VALUES\",\n",
        "    alpha = 0.75,\n",
        "    min_value = 0,\n",
        "    max_value = 6,\n",
        "    discrete_levels=7,\n",
        "    mid_ticks=True,\n",
        "    colormap = plt.cm.hsv\n",
        ")\n",
        "\n",
        "fig = vis.show()"
      ],
      "id": "featured-brand",
      "execution_count": null,
      "outputs": []
    },
    {
      "cell_type": "code",
      "metadata": {
        "id": "natural-scheduling"
      },
      "source": [
        "# now manually choose the correct labels\n",
        "# uncomment if you need more than one label\n",
        "bone_mask_select = (bone_mask_con_com==?) # + (bone_mask_con_com==?) + (bone_mask_con_com==?)\n",
        "\n",
        "# display as a contour or scalar overlay\n",
        "vis = ImageVisualiser(\n",
        "    image = img_ct_hn,\n",
        "    cut=(33,256,256),\n",
        "    figure_size_in=6\n",
        ")\n",
        "    \n",
        "vis.add_contour(\n",
        "    contour = {\"Bone segmentation\":bone_mask_select},\n",
        "    color= {\"Bone segmentation\":\"cyan\"}, # see: https://matplotlib.org/stable/gallery/color/named_colors.html for a full list\n",
        ")\n",
        "    \n",
        "fig = vis.show()"
      ],
      "id": "natural-scheduling",
      "execution_count": null,
      "outputs": []
    },
    {
      "cell_type": "code",
      "metadata": {
        "id": "charming-instrument"
      },
      "source": [
        "# morphological operations\n",
        "\n",
        "# run the simpleitk function\n",
        "bone_mask_morph = sitk.BinaryMorphologicalClosing(bone_mask_select, (2,2,4)) # the last numbers are the number of voxels to erode in the (sagittal, coronal, axial) directions\n",
        "\n",
        "# other options\n",
        "# sitk.BinaryErode : shrinks a segmentation\n",
        "# sitk.BinaryDilate : the opposite of erode, expands a segmentation\n",
        "# sitk.BinaryFillhole: fills small holes\n",
        "# sitk.BinaryMorphologicalClosing: a more complex hole filling algorithm\n",
        "#                                  specify the max hole size: (sag, cor, ax)\n",
        "\n",
        "# display as a contour or scalar overlay\n",
        "vis = ImageVisualiser(\n",
        "    image = img_ct_hn,\n",
        "    cut=(33,256,256),\n",
        "    figure_size_in=6\n",
        ")\n",
        "    \n",
        "vis.add_contour(\n",
        "    contour = {\"INSERT NAME HERE\":bone_mask_morph},\n",
        "    color= {\"INSERT NAME HERE\":\"orange\"},\n",
        ")\n",
        "    \n",
        "fig = vis.show()"
      ],
      "id": "charming-instrument",
      "execution_count": null,
      "outputs": []
    },
    {
      "cell_type": "markdown",
      "metadata": {
        "id": "likely-falls"
      },
      "source": [
        "#### Describe your choice of algorithm/s and reasoning.\n",
        "\n",
        "put your answer here"
      ],
      "id": "likely-falls"
    },
    {
      "cell_type": "markdown",
      "metadata": {
        "id": "intellectual-moderator"
      },
      "source": [
        "### Question 5\n",
        "\n",
        "Apply your bone segmentation method to the body scan. \n",
        "\n",
        "Include visualisations (at least one set of orthogonal image slices or MIP slices) to support your answer."
      ],
      "id": "intellectual-moderator"
    },
    {
      "cell_type": "code",
      "metadata": {
        "id": "grand-submission"
      },
      "source": [
        "# now repeat for the body scan\n",
        "\n",
        "img_ct_body = sitk.ReadImage(\"./data/task_1/BODY_CT.nii.gz\")"
      ],
      "id": "grand-submission",
      "execution_count": null,
      "outputs": []
    },
    {
      "cell_type": "code",
      "metadata": {
        "id": "caring-township"
      },
      "source": [
        "# put your code here"
      ],
      "id": "caring-township",
      "execution_count": null,
      "outputs": []
    },
    {
      "cell_type": "markdown",
      "metadata": {
        "id": "experienced-slope"
      },
      "source": [
        "#### Discuss the performance on this new image.\n",
        "\n",
        "put you answer here\n",
        "\n",
        "#### Are any changes required to work on this new image? \n",
        "\n",
        "put your answer here"
      ],
      "id": "experienced-slope"
    },
    {
      "cell_type": "markdown",
      "metadata": {
        "id": "rapid-seller"
      },
      "source": [
        "***\n",
        "# Task 2\n",
        "## CT-CT image registration and 18FDG-PET analysis.\n",
        "\n",
        "A patient has received $^{18}$FDG-PET scan as part of their treatment for head and neck cancer, to better visualise metabolically active tumour regions. \n",
        "\n",
        "This PET scan also includes a CT that is used for attenuation correction, and both images together are referred to as the PET-CT. \n",
        "\n",
        "With advice from their medical team, this patient has decided to receive radiotherapy.\n",
        "\n",
        "Prior to radiotherapy the patient has recieved a simulation CT scan (i.e. set up in the same position as for treatment).\n",
        "\n",
        "A radiation oncologist has delineated the primary tumour (gross tumour volume, GTV). \n",
        "\n",
        "When the PET-CT scan was acquired, the patient position was slightly different to the simulation CT. \n",
        "\n",
        "As a medical physicist, you have been asked to help with the co-registration of the PET-CT to the simulation CT."
      ],
      "id": "rapid-seller"
    },
    {
      "cell_type": "code",
      "metadata": {
        "id": "cathedral-insert"
      },
      "source": [
        "# we need to import more functionality\n",
        "\n",
        "from platipy.imaging.registration.linear import linear_registration\n",
        "from platipy.imaging.registration.deformable import fast_symmetric_forces_demons_registration\n",
        "from platipy.imaging.registration.utils import apply_transform\n",
        "\n",
        "from platipy.imaging.label.utils import get_com # get the centre of mass"
      ],
      "id": "cathedral-insert",
      "execution_count": null,
      "outputs": []
    },
    {
      "cell_type": "code",
      "metadata": {
        "id": "organized-merchandise"
      },
      "source": [
        "# read in the data for this task\n",
        "\n",
        "# the simulation ct and contour\n",
        "img_ct_sim = sitk.ReadImage(\"./data/task_2/HN_CT_SIMULATION.nii.gz\")\n",
        "contour_gtv = sitk.ReadImage(\"./data/task_2/HN_RTSTRUCT_TUMOUR.nii.gz\")\n",
        "\n",
        "img_ct_ac = sitk.ReadImage(\"./data/task_2/HN_CT_AC.nii.gz\")\n",
        "img_pet = sitk.ReadImage(\"./data/task_2/HN_PET.nii.gz\")\n",
        "\n",
        "# VERY IMPORTANT\n",
        "# THE PET IMAGE HAS A DIFFERENT RESOLUTION\n",
        "# SO WE MUST RESAMPLE IT INTO THE SAME SPACE AS THE CT\n",
        "img_pet = sitk.Resample(img_pet, img_ct_ac)"
      ],
      "id": "organized-merchandise",
      "execution_count": null,
      "outputs": []
    },
    {
      "cell_type": "code",
      "metadata": {
        "id": "moderate-decrease"
      },
      "source": [
        "# visualise the planning CT\n",
        "\n",
        "vis = ImageVisualiser(\n",
        "    image = img_ct_sim,\n",
        "    cut = get_com(contour_gtv), # a useful way to specify the slice location\n",
        "    figure_size_in = 6\n",
        ")\n",
        "\n",
        "vis.add_contour(\n",
        "    contour = {\"INSERT NAME\":contour_gtv},\n",
        "    color= {\"INSERT NAME\":\"lime\"},\n",
        "    show_legend=True\n",
        ")\n",
        "\n",
        "fig = vis.show()"
      ],
      "id": "moderate-decrease",
      "execution_count": null,
      "outputs": []
    },
    {
      "cell_type": "markdown",
      "metadata": {
        "id": "unknown-beaver"
      },
      "source": [
        "### Question 1\n",
        "By manually adjusting the slice location of the PET scan, visualise a 2D image slice from the PET-CT at the GTV location. "
      ],
      "id": "unknown-beaver"
    },
    {
      "cell_type": "code",
      "metadata": {
        "id": "mounted-cooking"
      },
      "source": [
        "# put your code here"
      ],
      "id": "mounted-cooking",
      "execution_count": null,
      "outputs": []
    },
    {
      "cell_type": "markdown",
      "metadata": {
        "id": "appreciated-table"
      },
      "source": [
        "#### Describe the appearance of the GTV on the PET scan, and discuss potential the cause of this appearance.\n",
        "\n",
        "put you answer here"
      ],
      "id": "appreciated-table"
    },
    {
      "cell_type": "markdown",
      "metadata": {
        "id": "academic-friday"
      },
      "source": [
        "### Question 2\n",
        "\n",
        "Use a linear registration method to align the attenuation correction CT to the simulation CT."
      ],
      "id": "academic-friday"
    },
    {
      "cell_type": "markdown",
      "metadata": {
        "id": "possible-prediction"
      },
      "source": [
        "The valid options for `reg_method`:\n",
        "- `\"translation\"`\n",
        "- `\"rigid\"`\n",
        "- `\"similarity\"`\n",
        "- `\"affine\"`\n",
        "- `\"scaleversor\"` (rigid + anisotropic scale)\n",
        "- `\"scaleskewversor\"` (affine + anisotropic scale)\n",
        "\n",
        "\n",
        "The valid options for `metric`:\n",
        "- `\"mean_squares\"`\n",
        "- `\"correlation\"`\n",
        "- `\"mattes_mi\"` (MI = mutual information)\n",
        "- `\"joint_hist_mi\"` (MI = mutual information)\n",
        "\n",
        "The valid options for `optimiser`:\n",
        "- `\"gradient_descent\"` (usually the best option)\n",
        "- `\"gradient_descent_line_search\"`\n",
        "- `\"lbfgsb (limited-memory Broyden–Fletcher–Goldfarb–Shanno (bounded).)\"`\n",
        "\n",
        "Note: you shouldn't have to change the optimisation option, but if a registration is failing you can try out the other choices.\n"
      ],
      "id": "possible-prediction"
    },
    {
      "cell_type": "code",
      "metadata": {
        "id": "mobile-blair"
      },
      "source": [
        "# to get more info:\n",
        "linear_registration?"
      ],
      "id": "mobile-blair",
      "execution_count": null,
      "outputs": []
    },
    {
      "cell_type": "code",
      "metadata": {
        "id": "listed-memphis"
      },
      "source": [
        "# linear registration\n",
        "\n",
        "img_ct_ac_linear, tfm_ct_ac_linear = linear_registration(\n",
        "    fixed_image = img_ct_sim,\n",
        "    moving_image = img_ct_ac,\n",
        "    reg_method = ?, # replace this with a valid option\n",
        "    metric = ?, # replace this with a valid option\n",
        "    # optimiser = ?, # replace this with a valid option\n",
        "    shrink_factors = [8, 4, 2], # try out different options\n",
        "    smooth_sigmas = [4, 2, 0], # try out different options\n",
        "    sampling_rate = 0.5, # between 0 and 1. increase = better accuracy, but slower\n",
        "    default_value = -1000, # the \"background\", for CT this is -1000\n",
        "    verbose = False, # change to True to print the progress\n",
        ")"
      ],
      "id": "listed-memphis",
      "execution_count": null,
      "outputs": []
    },
    {
      "cell_type": "code",
      "metadata": {
        "id": "integral-stress"
      },
      "source": [
        "# visualise the planning CT\n",
        "vis = ImageVisualiser(\n",
        "    image = img_ct_sim,\n",
        "    figure_size_in = 6\n",
        ")\n",
        "\n",
        "# add the AC CT as a comparison\n",
        "vis.add_comparison_overlay(img_ct_ac_linear)\n",
        "\n",
        "fig = vis.show()"
      ],
      "id": "integral-stress",
      "execution_count": null,
      "outputs": []
    },
    {
      "cell_type": "markdown",
      "metadata": {
        "id": "continuing-milwaukee"
      },
      "source": [
        "#### Discuss why you chose the registration parameters you used, in particular the type of transform and similarity metric. \n",
        "\n",
        "put your answer here\n",
        "\n",
        "#### Describe the co-registration accuracy, using visualisations as appropriate.\n",
        "\n",
        "put your answer here (create visualisations above)"
      ],
      "id": "continuing-milwaukee"
    },
    {
      "cell_type": "markdown",
      "metadata": {
        "id": "therapeutic-leadership"
      },
      "source": [
        "### Question 3\n",
        "Use a deformable registration method to refine these results."
      ],
      "id": "therapeutic-leadership"
    },
    {
      "cell_type": "code",
      "metadata": {
        "id": "banned-executive"
      },
      "source": [
        "# read the doc string for more info!\n",
        "fast_symmetric_forces_demons_registration?"
      ],
      "id": "banned-executive",
      "execution_count": null,
      "outputs": []
    },
    {
      "cell_type": "code",
      "metadata": {
        "id": "suited-diagnosis"
      },
      "source": [
        "# deformable registration\n",
        "\n",
        "img_ct_ac_dir, tfm_ct_ac_dir, dvf_ct_ac = fast_symmetric_forces_demons_registration(\n",
        "    fixed_image = img_ct_sim,\n",
        "    moving_image = img_ct_ac_linear,\n",
        "    resolution_staging=[8, 4, 2], # this is the resolution in mm\n",
        "    iteration_staging=[10, 10, 10], # more iterations = better accuracy but slover\n",
        "    isotropic_resample=True, # usually best to set this to True\n",
        "    default_value=-1000,\n",
        "    verbose=False,\n",
        ")"
      ],
      "id": "suited-diagnosis",
      "execution_count": null,
      "outputs": []
    },
    {
      "cell_type": "code",
      "metadata": {
        "id": "noticed-heaven"
      },
      "source": [
        "# visualise the DIR results\n",
        "vis = ImageVisualiser(\n",
        "    image = img_ct_sim,\n",
        "    figure_size_in = 6\n",
        ")\n",
        "\n",
        "vis.add_comparison_overlay(img_ct_ac_dir)\n",
        "\n",
        "fig = vis.show()"
      ],
      "id": "noticed-heaven",
      "execution_count": null,
      "outputs": []
    },
    {
      "cell_type": "markdown",
      "metadata": {
        "id": "formed-foster"
      },
      "source": [
        "#### Describe the co-registration accuracy following this second registration stage, using visualisations as appropriate.\n",
        "\n",
        "put your answer here"
      ],
      "id": "formed-foster"
    },
    {
      "cell_type": "markdown",
      "metadata": {
        "id": "nutritional-storm"
      },
      "source": [
        "### Question 4\n",
        "Propagate the transform to the PET image, and visualise the simulation CT with the PET overlaid and the GTV shown as a contour.\n",
        "[check TG-132 language]"
      ],
      "id": "nutritional-storm"
    },
    {
      "cell_type": "code",
      "metadata": {
        "id": "above-hurricane"
      },
      "source": [
        "# we will use the `apply_transform` function, get some information about it:\n",
        "apply_transform?"
      ],
      "id": "above-hurricane",
      "execution_count": null,
      "outputs": []
    },
    {
      "cell_type": "code",
      "metadata": {
        "id": "emerging-tablet"
      },
      "source": [
        "# combine the chain of transforms\n",
        "tfm_ct_ac_total = sitk.CompositeTransform((tfm_ct_ac_linear, tfm_ct_ac_dir))\n",
        "\n",
        "# apply to the pet image\n",
        "img_pet_dir = apply_transform(img_pet, reference_image=img_ct_sim, transform=tfm_ct_ac_total)"
      ],
      "id": "emerging-tablet",
      "execution_count": null,
      "outputs": []
    },
    {
      "cell_type": "code",
      "metadata": {
        "id": "aggregate-child"
      },
      "source": [
        "# visualise!"
      ],
      "id": "aggregate-child",
      "execution_count": null,
      "outputs": []
    },
    {
      "cell_type": "markdown",
      "metadata": {
        "id": "velvet-notice"
      },
      "source": [
        "#### Describe the alignment between the tumour region as visible on the PET scan with the delineated GTV.\n",
        "\n",
        "put your answer here"
      ],
      "id": "velvet-notice"
    },
    {
      "cell_type": "markdown",
      "metadata": {
        "id": "tamil-strengthening"
      },
      "source": [
        "### Question 5\n",
        "\n",
        "Compute the total activity (in Bq) of the tumour volume. Compare this to the total activity as provided by the ARPANSA Diagnostic Reference Level (DRL) for a brain PET-CT, found [here](https://www.arpansa.gov.au/research-and-expertise/surveys/national-diagnostic-reference-level-service/current-australian-drls/nm).\n",
        "\n",
        "For this question, consider how the CT image values were extracted in Task 1, Question 1 to compute the histogram. Some steps:\n",
        " - Using a similar approach we can extract the activity concentration at each voxel\n",
        " - How could we compute the *activity* at each voxel?\n",
        " - Hint: compute the volume of the voxel: `voxel_vol = np.product(img_pet_dir.GetSpacing())`. "
      ],
      "id": "tamil-strengthening"
    },
    {
      "cell_type": "code",
      "metadata": {
        "id": "boring-finnish"
      },
      "source": [
        "# put your code here"
      ],
      "id": "boring-finnish",
      "execution_count": null,
      "outputs": []
    },
    {
      "cell_type": "markdown",
      "metadata": {
        "id": "dying-specialist"
      },
      "source": [
        "#### written response\n",
        "\n",
        "put your answer here"
      ],
      "id": "dying-specialist"
    },
    {
      "cell_type": "markdown",
      "metadata": {
        "id": "dress-wales"
      },
      "source": [
        "***\n",
        "# Task 3\n",
        "## DIR-based functional lung assessment\n",
        "\n",
        "Deformable image registration can be used to assess lung function, as an alternative to SPECT- or PET-based ventilation and perfusion imaging (e.g. using $^{99\\text{m}}$Tc or $^{68}$Ga).\n",
        "\n",
        "The basis of these DIR methods is measuring changes in images of the lungs in 4D CT scans.\n",
        "\n",
        "A radiotherapy patient has received a 4D CT scan, gated into 10 phases of the respiratory cycle. \n",
        "\n",
        "From this scan, two CT scans corresponding to the peak inhale (breath in) and peak exhale (breath out) are generated.\n",
        "\n",
        "As a medical physicist registrar, you have been asked to help provide quantitative information. \n",
        "\n",
        "This will help the team in implementing a new technique to minimise the radiation dose to well-functioning lung regions.\n"
      ],
      "id": "dress-wales"
    },
    {
      "cell_type": "code",
      "metadata": {
        "id": "lyric-improvement"
      },
      "source": [
        "# read in the data for this task\n",
        "\n",
        "img_4dct_inhale = sitk.ReadImage(\"./data/task_3/4DLUNG_CT_INHALE.nii.gz\")\n",
        "img_4dct_exhale = sitk.ReadImage(\"./data/task_3/4DLUNG_CT_EXHALE.nii.gz\")\n",
        "\n",
        "contours = {\"EXHALE\":{}, \"INHALE\":{}}\n",
        "contours[\"EXHALE\"][\"LEFT_LUNG\"] = sitk.ReadImage(\"./data/task_3/4DLUNG_RTSTRUCT_LEFT_LUNG_EXHALE.nii.gz\")\n",
        "contours[\"EXHALE\"][\"RIGHT_LUNG\"] = sitk.ReadImage(\"./data/task_3/4DLUNG_RTSTRUCT_RIGHT_LUNG_EXHALE.nii.gz\")\n",
        "contours[\"INHALE\"][\"LEFT_LUNG\"] = sitk.ReadImage(\"./data/task_3/4DLUNG_RTSTRUCT_LEFT_LUNG_INHALE.nii.gz\")\n",
        "contours[\"INHALE\"][\"RIGHT_LUNG\"] = sitk.ReadImage(\"./data/task_3/4DLUNG_RTSTRUCT_RIGHT_LUNG_INHALE.nii.gz\")"
      ],
      "id": "lyric-improvement",
      "execution_count": null,
      "outputs": []
    },
    {
      "cell_type": "code",
      "metadata": {
        "id": "ignored-humor"
      },
      "source": [
        "# visualise\n",
        "\n",
        "vis = ImageVisualiser(img_4dct_exhale, cut=get_com(contours[\"EXHALE\"][\"LEFT_LUNG\"]), figure_size_in=6)\n",
        "vis.add_contour(contours[\"EXHALE\"])\n",
        "fig = vis.show()"
      ],
      "id": "ignored-humor",
      "execution_count": null,
      "outputs": []
    },
    {
      "cell_type": "markdown",
      "metadata": {
        "id": "lasting-breakdown"
      },
      "source": [
        "### Question 1\n",
        "Use deformable image registration to warp the peak exhale CT image to the peak inhale CT image."
      ],
      "id": "lasting-breakdown"
    },
    {
      "cell_type": "code",
      "metadata": {
        "id": "small-forge"
      },
      "source": [
        "# register using the fast symmetric forces demons algorithm!\n",
        "\n",
        "img_4dct_dir, tfm_4dct_dir, dvf_4dct = fast_symmetric_forces_demons_registration(\n",
        "    fixed_image = img_4dct_inhale,\n",
        "    moving_image = img_4dct_exhale,\n",
        "    resolution_staging=[8, 4, 2],\n",
        "    iteration_staging=[10, 10, 10],\n",
        "    isotropic_resample=True,\n",
        "    default_value=-1000,\n",
        "    verbose=False,\n",
        ")"
      ],
      "id": "small-forge",
      "execution_count": null,
      "outputs": []
    },
    {
      "cell_type": "markdown",
      "metadata": {
        "id": "antique-easter"
      },
      "source": [
        "Compare this warped exhale image to the peak inhale image"
      ],
      "id": "antique-easter"
    },
    {
      "cell_type": "code",
      "metadata": {
        "id": "tested-republic"
      },
      "source": [
        "# compare the registration\n",
        "# BEFORE REG\n",
        "vis = ImageVisualiser(img_4dct_inhale, axis=\"y\", figure_size_in=4)\n",
        "vis.add_comparison_overlay(img_4dct_exhale)\n",
        "fig = vis.show()\n",
        "\n",
        "# AFTER REF\n",
        "vis = ImageVisualiser(img_4dct_inhale, axis=\"y\", figure_size_in=4)\n",
        "vis.add_comparison_overlay(img_4dct_dir)\n",
        "fig = vis.show()"
      ],
      "id": "tested-republic",
      "execution_count": null,
      "outputs": []
    },
    {
      "cell_type": "markdown",
      "metadata": {
        "id": "significant-conjunction"
      },
      "source": [
        "#### Describe the accuracy of the registration process, using visualisations as required.\n",
        "\n",
        "put your answer here"
      ],
      "id": "significant-conjunction"
    },
    {
      "cell_type": "markdown",
      "metadata": {
        "id": "prime-bones"
      },
      "source": [
        "### Question 2\n",
        "Compute the magnitude of the deformation field, mask it to the lung volume."
      ],
      "id": "prime-bones"
    },
    {
      "cell_type": "code",
      "metadata": {
        "id": "experimental-turning"
      },
      "source": [
        "# calculate the magnitude\n",
        "img_vec_mag = sitk.VectorMagnitude(dvf_4dct)\n",
        "\n",
        "# mask the the combined lung volume\n",
        "img_vec_mag_masked = sitk.Mask(img_vec_mag, contours[\"INHALE\"][\"RIGHT_LUNG\"] | contours[\"INHALE\"][\"LEFT_LUNG\"])"
      ],
      "id": "experimental-turning",
      "execution_count": null,
      "outputs": []
    },
    {
      "cell_type": "markdown",
      "metadata": {
        "id": "higher-california"
      },
      "source": [
        "Visualise this as a scalar overlay on the inhale CT scan using a perceptually uniform colormap.\n",
        "\n",
        "To find an appropriate colormap see: https://matplotlib.org/stable/tutorials/colors/colormaps.html"
      ],
      "id": "higher-california"
    },
    {
      "cell_type": "code",
      "metadata": {
        "id": "driven-fossil"
      },
      "source": [
        "# visualise\n",
        "# replace ? with a valid PERCENTUALLY UNIFORM colormap\n",
        "\n",
        "vis = ImageVisualiser(img_4dct_inhale, cut=get_com(contours[\"INHALE\"][\"LEFT_LUNG\"]), figure_size_in=6)\n",
        "\n",
        "vis.add_scalar_overlay(\n",
        "    img_vec_mag_masked,\n",
        "    colormap = ?,\n",
        "    discrete_levels = 10,\n",
        "    max_value = 20,\n",
        "    name = \"INSERT NAME\"\n",
        ")\n",
        "\n",
        "fig = vis.show()"
      ],
      "id": "driven-fossil",
      "execution_count": null,
      "outputs": []
    },
    {
      "cell_type": "markdown",
      "metadata": {
        "id": "interior-albany"
      },
      "source": [
        "#### Where are the largest deformations? Is this what you expected?\n",
        "\n",
        "put your answer here"
      ],
      "id": "interior-albany"
    },
    {
      "cell_type": "markdown",
      "metadata": {
        "id": "dense-edgar"
      },
      "source": [
        "### Question 3\n",
        "Compute the Jacobian determinant of the deformation field, mask it to the lung volume."
      ],
      "id": "dense-edgar"
    },
    {
      "cell_type": "code",
      "metadata": {
        "id": "deadly-ceremony"
      },
      "source": [
        "# calculate the jacobian determinant\n",
        "img_jac_det = sitk.DisplacementFieldJacobianDeterminant(sitk.InvertDisplacementField(dvf_4dct))"
      ],
      "id": "deadly-ceremony",
      "execution_count": null,
      "outputs": []
    },
    {
      "cell_type": "code",
      "metadata": {
        "id": "composed-fundamental"
      },
      "source": [
        "img_jac_det_mask = sitk.Mask(img_jac_det, contours[\"INHALE\"][\"RIGHT_LUNG\"] | contours[\"INHALE\"][\"LEFT_LUNG\"])"
      ],
      "id": "composed-fundamental",
      "execution_count": null,
      "outputs": []
    },
    {
      "cell_type": "markdown",
      "metadata": {
        "id": "complex-generation"
      },
      "source": [
        "Visualise this as a scalar overlay on the inhale CT scan (with lung contours) using a diverging colormap normalised with 1 at the center."
      ],
      "id": "complex-generation"
    },
    {
      "cell_type": "code",
      "metadata": {
        "id": "ruled-priest"
      },
      "source": [
        "# create a normalised colormap\n",
        "\n",
        "from matplotlib import colors\n",
        "cmap_norm = colors.TwoSlopeNorm(vcenter=1)"
      ],
      "id": "ruled-priest",
      "execution_count": null,
      "outputs": []
    },
    {
      "cell_type": "code",
      "metadata": {
        "id": "afraid-creation"
      },
      "source": [
        "# visualise as a scalar overlay\n",
        "# replace ? with a valid DIVERGING colormap\n",
        "\n",
        "vis = ImageVisualiser(img_4dct_inhale, cut=get_com(contours[\"INHALE\"][\"LEFT_LUNG\"]), figure_size_in=6)\n",
        "\n",
        "vis.add_scalar_overlay(\n",
        "    img_jac_det_mask,\n",
        "    colormap = ?,\n",
        "    discrete_levels = 10,\n",
        "    min_value = 0,\n",
        "    max_value = 3,\n",
        "    name = \"INSERT NAME\",\n",
        "    norm = cmap_norm\n",
        ")\n",
        "\n",
        "fig = vis.show()"
      ],
      "id": "afraid-creation",
      "execution_count": null,
      "outputs": []
    },
    {
      "cell_type": "markdown",
      "metadata": {
        "id": "useful-exhibit"
      },
      "source": [
        "### Question 4\n",
        "\n",
        "#### With reference to the above results, briefly describe how the lungs change during respiration. \n",
        "\n",
        "put your answer here"
      ],
      "id": "useful-exhibit"
    },
    {
      "cell_type": "markdown",
      "metadata": {
        "id": "ultimate-convert"
      },
      "source": [
        "#### Based on the analysis of the deformable image registration, are there any regions associated with non-physical deformation? \n",
        "Hint: which of the above metrics (vector magnitude, Jacobian determinant) can we used to identify non-physical deformations?\n",
        "\n",
        "#### What proportion of the total lung volume is affected by this non-physical deformation?\n",
        "Hint: can you extract all of the appropriate metric values in the lung regions?"
      ],
      "id": "ultimate-convert"
    },
    {
      "cell_type": "code",
      "metadata": {
        "id": "basic-quick"
      },
      "source": [
        "# put your code here"
      ],
      "id": "basic-quick",
      "execution_count": null,
      "outputs": []
    },
    {
      "cell_type": "markdown",
      "metadata": {
        "id": "rubber-little"
      },
      "source": [
        "### answer\n",
        "\n",
        "put your answer here"
      ],
      "id": "rubber-little"
    },
    {
      "cell_type": "markdown",
      "metadata": {
        "id": "naval-standard"
      },
      "source": [
        "***\n",
        "# Task 4\n",
        "## MRI-CT fusion for brain imaging\n",
        "\n",
        "It can be beneficial to delineate radiotherapy planning volumes using CT imaging together with another modality, such as MRI, for improved soft-tissue contrast and functional imaging.\n",
        "\n",
        "A radiation oncologist is treating a patient for brain cancer. \n",
        "\n",
        "In addition to the simulation CT acquired to facilitate treatment planning, there were two MRI sequences acquired: T2w FSE (fast spin echo) and T2w FLAIR (fluid-attenuated attenuated inversion recovery). \n",
        "\n",
        "As a medical physicist, you have been asked to provide assistance in the fusion (co-registration) of the brain MRI and CT scan. \n",
        "\n",
        "This will improve the visualisation of the brain tumour, which could lead to more confidence in the delineation of radiotherapy planning volumes."
      ],
      "id": "naval-standard"
    },
    {
      "cell_type": "code",
      "metadata": {
        "id": "acoustic-probability"
      },
      "source": [
        "# read in the data for this question\n",
        "\n",
        "img_brain_ct = sitk.ReadImage(\"./data/task_4/BRAIN_CT.nii.gz\")\n",
        "img_brain_mri_fse = sitk.ReadImage(\"./data/task_4/BRAIN_MR_AX_T2_FSE.nii.gz\")\n",
        "img_brain_mri_flair = sitk.ReadImage(\"./data/task_4/BRAIN_MR_AX_T2_FLAIR.nii.gz\")"
      ],
      "id": "acoustic-probability",
      "execution_count": null,
      "outputs": []
    },
    {
      "cell_type": "markdown",
      "metadata": {
        "id": "ceramic-switzerland"
      },
      "source": [
        "### Question 1\n",
        "Which image (CT, T2w FSE, or T2w FLAIR) should be chosen as the reference image (i.e. the target image), and which should be selected as the moving image (i.e. the image that is transformed), and why? \n",
        "\n",
        "For choosing which MRI sequence might be preferred, you should investigate acquisition/image parameters."
      ],
      "id": "ceramic-switzerland"
    },
    {
      "cell_type": "code",
      "metadata": {
        "id": "secondary-extreme"
      },
      "source": [
        "# to get information about an image, use\n",
        "print(\"Image resoltuion:\", img_brain_ct.GetSpacing())\n",
        "print(\"Image size:      \", img_brain_ct.GetSize())\n",
        "print(\"Image pixel type:\", img_brain_ct.GetPixelIDTypeAsString())"
      ],
      "id": "secondary-extreme",
      "execution_count": null,
      "outputs": []
    },
    {
      "cell_type": "markdown",
      "metadata": {
        "id": "northern-macintosh"
      },
      "source": [
        "#### answer\n",
        "\n",
        "put you answer here"
      ],
      "id": "northern-macintosh"
    },
    {
      "cell_type": "markdown",
      "metadata": {
        "id": "surprising-judges"
      },
      "source": [
        "### Question 2\n",
        "Use an appropriate co-registration algorithm to align the two modalities. For this, you may use either MRI sequence. "
      ],
      "id": "surprising-judges"
    },
    {
      "cell_type": "code",
      "metadata": {
        "id": "tracked-virus"
      },
      "source": [
        "# perform linear registration\n",
        "# replace ? with valid options!\n",
        "img_brain_registered, tfm_brain = linear_registration(\n",
        "    fixed_image = ?,\n",
        "    moving_image = ?,\n",
        "    reg_method=?,\n",
        "    metric=?,\n",
        "    optimiser=\"gradient_descent\",\n",
        "    shrink_factors=[8,4,2],\n",
        "    smooth_sigmas=[4,2,0],\n",
        "    sampling_rate=0.9,\n",
        "    default_value=?,\n",
        "    verbose=False,\n",
        ")"
      ],
      "id": "tracked-virus",
      "execution_count": null,
      "outputs": []
    },
    {
      "cell_type": "code",
      "metadata": {
        "id": "cloudy-graphics"
      },
      "source": [
        "# visualise as a comparison overlay\n",
        "# replace ? with your chosen reference (fixed) image\n",
        "vis = ImageVisualiser(?, figure_size_in=6)\n",
        "vis.add_comparison_overlay(img_brain_registered)\n",
        "fig = vis.show()"
      ],
      "id": "cloudy-graphics",
      "execution_count": null,
      "outputs": []
    },
    {
      "cell_type": "code",
      "metadata": {
        "id": "improved-uniform"
      },
      "source": [
        "# visualise as a scalar overlay\n",
        "vis = ImageVisualiser(?, figure_size_in=6)\n",
        "\n",
        "vis.add_scalar_overlay(\n",
        "    ?,\n",
        "    colormap=plt.cm.CMRmap,\n",
        "    name = \"INSERT NAME\",\n",
        "    alpha=0.5\n",
        ")\n",
        "\n",
        "fig = vis.show()"
      ],
      "id": "improved-uniform",
      "execution_count": null,
      "outputs": []
    },
    {
      "cell_type": "markdown",
      "metadata": {
        "id": "quality-withdrawal"
      },
      "source": [
        "#### Discuss the registration parameters you chose, in particular, the type of transform and metric.\n",
        "\n",
        "put your answer here\n",
        "\n",
        "#### By using appropriate visualisations, describe the accuracy of the co-registration.\n",
        "\n",
        "put your answer here"
      ],
      "id": "quality-withdrawal"
    },
    {
      "cell_type": "markdown",
      "metadata": {
        "id": "maritime-dating"
      },
      "source": [
        "***\n",
        "# Task 5\n",
        "## Atlas-based automatic segmentation of radiotherapy volumes \n",
        "\n",
        "Atlas-based techniques are frequently used in radiotherapy to assist treatment planning.\n",
        "\n",
        "A cancer therapy centre is currently investigating the how automatic segmentation could be used for patient being treated for head and neck cancers.\n",
        "\n",
        "These patients routinely receive T2w MRI scans. \n",
        "\n",
        "Currently, these is a focus on the parotid glands, which are the largest salivary glands and are important during radiotherapy planning as doses exceeding established constraints can increase the risks of severe toxicities.\n",
        "\n",
        "As a medical physicist, you have been asked to provide assistance in validating an atlas-based automatic segmentation tool. \n",
        "\n",
        "You have collected data (imaging and contours) for three patients, and will conduct an investigation."
      ],
      "id": "maritime-dating"
    },
    {
      "cell_type": "markdown",
      "metadata": {
        "id": "jewish-lying"
      },
      "source": [
        "### Question 1\n",
        "Visualise all three patient images with the contours clearly visible."
      ],
      "id": "jewish-lying"
    },
    {
      "cell_type": "code",
      "metadata": {
        "id": "synthetic-uncertainty"
      },
      "source": [
        "# read in data for one patient\n",
        "\n",
        "img_001 = sitk.ReadImage(\"./data/task_5/RTMAC_LIVE_001/IMAGES/RTMAC_LIVE_001_MRI_T2W.nii.gz\")\n",
        "\n",
        "contours_001 = {\n",
        "    \"PAROTID_L\":sitk.ReadImage(\"./data/task_5/RTMAC_LIVE_001/STRUCTURES/RTMAC_LIVE_001_RTSTRUCT_PAROTID_L.nii.gz\"),\n",
        "    \"PAROTID_R\":sitk.ReadImage(\"./data/task_5/RTMAC_LIVE_001/STRUCTURES/RTMAC_LIVE_001_RTSTRUCT_PAROTID_R.nii.gz\"),\n",
        "}\n",
        "\n",
        "# repeat for the other two patients"
      ],
      "id": "synthetic-uncertainty",
      "execution_count": null,
      "outputs": []
    },
    {
      "cell_type": "code",
      "metadata": {
        "id": "unavailable-soldier"
      },
      "source": [
        "# visualise\n",
        "vis = ImageVisualiser(img_001, cut=get_com(contours_001[\"PAROTID_L\"]), figure_size_in=6)\n",
        "vis.add_contour(contours_001)\n",
        "fig = vis.show()\n",
        "\n",
        "# repeat for the other two patients"
      ],
      "id": "unavailable-soldier",
      "execution_count": null,
      "outputs": []
    },
    {
      "cell_type": "markdown",
      "metadata": {
        "id": "changed-physiology"
      },
      "source": [
        "#### Discuss anatomical and appearance difference between the patients.\n",
        "\n",
        "put answer here"
      ],
      "id": "changed-physiology"
    },
    {
      "cell_type": "markdown",
      "metadata": {
        "id": "matched-portfolio"
      },
      "source": [
        "### Question 2\n",
        "Select one patient as the “target” to be automatically segmented using the other two datasets as atlases. \n",
        "\n",
        "Use the multi-atlas segmentation tool in platipy."
      ],
      "id": "matched-portfolio"
    },
    {
      "cell_type": "code",
      "metadata": {
        "id": "moving-scroll"
      },
      "source": [
        "# select the target image\n",
        "# replace ? with the patient id (1,2 or 3)\n",
        "img_target = img_00?\n",
        "contours_target = contours_00?"
      ],
      "id": "moving-scroll",
      "execution_count": null,
      "outputs": []
    },
    {
      "cell_type": "code",
      "metadata": {
        "id": "judicial-alcohol"
      },
      "source": [
        "# import the relevant functionality\n",
        "from platipy.imaging.projects.multiatlas.run import run_segmentation, MUTLIATLAS_SETTINGS_DEFAULTS\n",
        "\n",
        "from platipy.imaging.visualisation.comparison import contour_comparison"
      ],
      "id": "judicial-alcohol",
      "execution_count": null,
      "outputs": []
    },
    {
      "cell_type": "code",
      "metadata": {
        "id": "charged-melissa"
      },
      "source": [
        "# display all of the available options\n",
        "display(MUTLIATLAS_SETTINGS_DEFAULTS)"
      ],
      "id": "charged-melissa",
      "execution_count": null,
      "outputs": []
    },
    {
      "cell_type": "code",
      "metadata": {
        "id": "authorized-summit"
      },
      "source": [
        "# make a copy of the default settings\n",
        "user_settings = MUTLIATLAS_SETTINGS_DEFAULTS\n",
        "\n",
        "# we MUST change the atlas settings\n",
        "# CHANGE X AND Y to the IDs of the two patients you are using as the atlases\n",
        "user_settings['atlas_settings'] = {\n",
        "    'atlas_id_list': ['RTMAC_LIVE_00X', \"RTMAC_LIVE_00Y\"],\n",
        "    'atlas_structure_list': ['PAROTID_L','PAROTID_R'],\n",
        "    'atlas_path': './data/task_5/',\n",
        "    'atlas_image_format': '{0}/IMAGES/{0}_MRI_T2W.nii.gz',\n",
        "    'atlas_label_format': '{0}/STRUCTURES/{0}_RTSTRUCT_{1}.nii.gz',\n",
        "    'crop_atlas_to_structures': False,\n",
        "    'crop_atlas_expansion_mm': None,\n",
        "}\n",
        "\n",
        "# optionally, we can change some of the default registration parameters\n",
        "user_settings[\"linear_registration_settings\"] = {\n",
        "    \"reg_method\": \"rigid\",\n",
        "    \"shrink_factors\": [16, 8, 4],\n",
        "    \"smooth_sigmas\": [0, 0, 0],\n",
        "    \"sampling_rate\": 0.75,\n",
        "    \"default_value\": 0,\n",
        "    \"number_of_iterations\": 50,\n",
        "    \"metric\": \"mean_squares\",\n",
        "    \"optimiser\": \"gradient_descent_line_search\",\n",
        "    \"verbose\": False\n",
        "}\n",
        "\n",
        "user_settings[\"deformable_registration_settings\"] = {\n",
        "    \"isotropic_resample\": True,\n",
        "    \"resolution_staging\": [6, 4],\n",
        "    \"iteration_staging\": [25, 25],\n",
        "    \"smoothing_sigmas\": [0, 0],\n",
        "    \"ncores\": 8,\n",
        "    \"default_value\": 0,\n",
        "    \"verbose\": False\n",
        "}"
      ],
      "id": "authorized-summit",
      "execution_count": null,
      "outputs": []
    },
    {
      "cell_type": "code",
      "metadata": {
        "id": "capable-stephen"
      },
      "source": [
        "# Run the segmentation\n",
        "# this usually takes a few minutes\n",
        "output_contours, output_probability = run_segmentation(img_target, user_settings)"
      ],
      "id": "capable-stephen",
      "execution_count": null,
      "outputs": []
    },
    {
      "cell_type": "markdown",
      "metadata": {
        "id": "color-event"
      },
      "source": [
        "### Discuss your reasoning in selecting the registration parameters you chose.\n",
        "\n",
        "put answer here"
      ],
      "id": "color-event"
    },
    {
      "cell_type": "markdown",
      "metadata": {
        "id": "informed-alberta"
      },
      "source": [
        "### Question 3\n",
        "Generate a figure comparing the manual contours to the automatic segmentation along with measures of geometric similarity (i.e. contouring metrics). \n",
        "\n",
        "Notes:\n",
        " - DSC: Dice Similarity Coefficient.\n",
        " - MDA: Mean Distance to Agreement. Sometimes called Mean Surface Distance (MDA).\n",
        " - HD: Hausdorff Distance (maximum distance between contours)."
      ],
      "id": "informed-alberta"
    },
    {
      "cell_type": "code",
      "metadata": {
        "id": "amber-giant"
      },
      "source": [
        "fig = contour_comparison(\n",
        "    img = img_target,\n",
        "    contour_dict_a = contours_target,\n",
        "    contour_dict_b = output_contours,\n",
        "    contour_label_a='Manual',\n",
        "    contour_label_b='Automatic',\n",
        "    title='INSERT TITLE',\n",
        "    subtitle='INSERT SUBTITLE',\n",
        "    subsubtitle='INSERT YOUR NAME',\n",
        "    img_vis_kw=dict(figure_size_in=9),\n",
        ")"
      ],
      "id": "amber-giant",
      "execution_count": null,
      "outputs": []
    },
    {
      "cell_type": "markdown",
      "metadata": {
        "id": "passing-claim"
      },
      "source": [
        "#### Briefly describe the performance of the atlas-based segmentation tool for this patient."
      ],
      "id": "passing-claim"
    },
    {
      "cell_type": "markdown",
      "metadata": {
        "id": "certified-design"
      },
      "source": [
        "### Question 4\n",
        "\n",
        "#### With reference to the recent paper:\n",
        "[Kieselmann et al (2020) Auto-segmentation of the parotid glands on MR images of head and neck cancer patients with deep learning strategies.](https://www.medrxiv.org/content/10.1101/2020.12.19.20248376v1.full-text)\n",
        "#### Compare the performance of your segmentation to state-of-the-art results. \n",
        "\n",
        "put answer here\n",
        "\n",
        "#### Would you recommend this tool for use? Why/why not?\n",
        "put answer here\n",
        "\n",
        "#### What further validation would you suggest?\n",
        "put answer here"
      ],
      "id": "certified-design"
    },
    {
      "cell_type": "markdown",
      "metadata": {
        "id": "tLiMPNPFgTeh"
      },
      "source": [
        "# Generating a PDF to submit\n",
        "\n",
        "To create a PDF:\n",
        "1. Download this Jupyter notebook (File > Download > Download .ipynb)\n",
        "2. Upload to you workspace (click the folder icon on the left, drag and drop the .ipynb file)\n",
        "3. Run the two cells below"
      ],
      "id": "tLiMPNPFgTeh"
    },
    {
      "cell_type": "code",
      "metadata": {
        "id": "R_u1nFJcgqQ5"
      },
      "source": [
        "%%capture\n",
        "\n",
        "!sudo apt-get install texlive-xetex texlive-fonts-recommended texlive-generic-recommended"
      ],
      "id": "R_u1nFJcgqQ5",
      "execution_count": null,
      "outputs": []
    },
    {
      "cell_type": "code",
      "metadata": {
        "id": "os1096VPgsw9"
      },
      "source": [
        "# replace the name with the actual filename!\n",
        "\n",
        "!jupyter nbconvert --to pdf /content/NAME_OF_YOUR_FILE.ipynb"
      ],
      "id": "os1096VPgsw9",
      "execution_count": null,
      "outputs": []
    }
  ]
}